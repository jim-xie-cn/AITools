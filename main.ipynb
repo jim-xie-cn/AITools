{
 "cells": [
  {
   "cell_type": "markdown",
   "id": "8723cd27-9fe1-4385-9f4b-11fb1ef48a8f",
   "metadata": {},
   "source": [
    "# 开发包说明"
   ]
  },
  {
   "cell_type": "markdown",
   "id": "407ff377-4d95-4f9e-ad58-281638a96247",
   "metadata": {},
   "source": [
    "## 设置环境变量"
   ]
  },
  {
   "cell_type": "raw",
   "id": "c45d6442-e6ea-4ffd-98e0-1d232414dd7d",
   "metadata": {},
   "source": [
    "cd {AITools/}\n",
    "export PYTHONPATH=$PYTHONPATH:$PWD:$PWD/share:$PWD/ml:$PWD/dl:$PWD/ml"
   ]
  },
  {
   "cell_type": "markdown",
   "id": "96a6f7ab-7bde-4fca-993a-9e5831467d50",
   "metadata": {},
   "source": [
    "## 数据处理功能（share目录）"
   ]
  },
  {
   "cell_type": "markdown",
   "id": "b2483664-ccc6-49ca-a4dc-3687ea81887d",
   "metadata": {},
   "source": [
    "### SHCommon.py (处理常见操作)"
   ]
  },
  {
   "cell_type": "markdown",
   "id": "0a34f4bd-fd1a-4aba-89a9-7d14ed488f93",
   "metadata": {},
   "source": [
    "1. load_csv(file_name,chunksize=1000):带进度条，读取csv文件\n",
    "2. find_changed_index(ds):找到序列中，发生变化的index\n",
    "3. get_dataframe_batch(df_sample,batch_size = 10): 将DataFrame划分成多个batch\n",
    "4. get_matrix_by_pca(dataMat, n):使用PCA，得到降维后和重构后的矩阵"
   ]
  },
  {
   "cell_type": "markdown",
   "id": "0721bf8e-bcbd-480a-957e-8754744299ef",
   "metadata": {},
   "source": [
    "### SHDataEDA.py (数据可视化操作)"
   ]
  },
  {
   "cell_type": "markdown",
   "id": "7fb692eb-9145-4f94-beeb-e196e229ba23",
   "metadata": {},
   "source": [
    "#### CSHDataDistribution 分布相关\n",
    "1. show_dist(ds,bins = 10 ):显示分布图\n",
    "2. normal_test(ds , p_value = 0.05):检查是否为高斯分布\n",
    "3. dist_test(ds1, ds2 , p_value = 0.05):检查两个分布是否相同\n",
    "4. normal_fit(ds_data,bins=100):可视化分布（带高斯拟合线）"
   ]
  },
  {
   "cell_type": "markdown",
   "id": "9b35a326-3ea7-4f9a-acf9-683c5ae7c31f",
   "metadata": {},
   "source": [
    "#### CSHDataTest 测试检验相关\n",
    "1. stationarity_test(timeSeries):平稳性测试\n",
    "2. show_acf_pacf(timeSeries):显示自相关和偏自相关图\n",
    "3. granger_test(ds_result,ds_source,maxlag,p_value = 0.05):格兰特因果检验"
   ]
  },
  {
   "cell_type": "markdown",
   "id": "c40fe59d-dbc9-4968-af15-4f3c17ced88e",
   "metadata": {},
   "source": [
    "### SHEvaluation.py (模型评估)"
   ]
  },
  {
   "cell_type": "markdown",
   "id": "e176ba2e-55c4-4cab-9c8c-cfe6d12d34b4",
   "metadata": {},
   "source": [
    "#### 分类模型评估"
   ]
  },
  {
   "cell_type": "markdown",
   "id": "6f130283-3e8b-4bdc-9703-ada4a50aa0f9",
   "metadata": {},
   "source": [
    "1. evaluate(ds_pred,ds_true,average='weighted'):评估分类模型性能\n",
    "2. get_binary_roc(ds_true,ds_prob):获取ROC曲线\n",
    "3. show_binary_roc(roc_auc,df_roc,title = None):显示ROC曲线"
   ]
  },
  {
   "cell_type": "markdown",
   "id": "bcbd8532-4fcc-46ba-a07a-d452998231de",
   "metadata": {},
   "source": [
    "## 机器学习模型"
   ]
  },
  {
   "cell_type": "markdown",
   "id": "a5c10b31-5f06-433d-8d5a-b9e40cfcad23",
   "metadata": {},
   "source": [
    "## 深度学习模型"
   ]
  },
  {
   "cell_type": "markdown",
   "id": "5a9cbd16-c9c9-4a24-9123-c8d9ce60fd66",
   "metadata": {},
   "source": [
    "## 大语言模型"
   ]
  },
  {
   "cell_type": "code",
   "execution_count": null,
   "id": "1b68704d-7b27-411a-b7c8-97ea5d8159b5",
   "metadata": {},
   "outputs": [],
   "source": []
  }
 ],
 "metadata": {
  "kernelspec": {
   "display_name": "Python 3 (ipykernel)",
   "language": "python",
   "name": "python3"
  },
  "language_info": {
   "codemirror_mode": {
    "name": "ipython",
    "version": 3
   },
   "file_extension": ".py",
   "mimetype": "text/x-python",
   "name": "python",
   "nbconvert_exporter": "python",
   "pygments_lexer": "ipython3",
   "version": "3.9.19"
  }
 },
 "nbformat": 4,
 "nbformat_minor": 5
}
