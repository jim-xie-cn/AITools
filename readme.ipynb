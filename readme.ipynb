{
 "cells": [
  {
   "cell_type": "markdown",
   "id": "8723cd27-9fe1-4385-9f4b-11fb1ef48a8f",
   "metadata": {},
   "source": [
    "# 开发包说明"
   ]
  },
  {
   "cell_type": "markdown",
   "id": "407ff377-4d95-4f9e-ad58-281638a96247",
   "metadata": {
    "jp-MarkdownHeadingCollapsed": true
   },
   "source": [
    "## 设置环境变量"
   ]
  },
  {
   "cell_type": "raw",
   "id": "c45d6442-e6ea-4ffd-98e0-1d232414dd7d",
   "metadata": {},
   "source": [
    "cd {AITools/}\n",
    "export PYTHONPATH=$PYTHONPATH:$PWD:$PWD/share:$PWD/ml:$PWD/dl:$PWD/ml"
   ]
  },
  {
   "cell_type": "markdown",
   "id": "96a6f7ab-7bde-4fca-993a-9e5831467d50",
   "metadata": {
    "jp-MarkdownHeadingCollapsed": true
   },
   "source": [
    "## 数据处理功能（share目录）"
   ]
  },
  {
   "cell_type": "markdown",
   "id": "b2483664-ccc6-49ca-a4dc-3687ea81887d",
   "metadata": {},
   "source": [
    "### SHCommon.py (处理常见操作)"
   ]
  },
  {
   "cell_type": "markdown",
   "id": "0a34f4bd-fd1a-4aba-89a9-7d14ed488f93",
   "metadata": {},
   "source": [
    "1. load_csv(file_name,chunksize=1000):带进度条，读取csv文件\n",
    "2. find_changed_index(ds):找到序列中，发生变化的index\n",
    "3. get_dataframe_batch(df_sample,batch_size = 10): 将DataFrame划分成多个batch\n",
    "4. get_matrix_by_pca(dataMat, n):使用PCA，得到降维后和重构后的矩阵"
   ]
  },
  {
   "cell_type": "markdown",
   "id": "0721bf8e-bcbd-480a-957e-8754744299ef",
   "metadata": {},
   "source": [
    "### SHDataEDA.py (数据可视化操作)"
   ]
  },
  {
   "cell_type": "markdown",
   "id": "7fb692eb-9145-4f94-beeb-e196e229ba23",
   "metadata": {},
   "source": [
    "#### CSHDataDistribution 分布相关\n",
    "1. show_dist(ds,bins = 10 ):显示分布图\n",
    "2. normal_test(ds , p_value = 0.05):检查是否为高斯分布\n",
    "3. dist_test(ds1, ds2 , p_value = 0.05):检查两个分布是否相同\n",
    "4. normal_fit(ds_data,bins=100):可视化分布（带高斯拟合线）"
   ]
  },
  {
   "cell_type": "markdown",
   "id": "9b35a326-3ea7-4f9a-acf9-683c5ae7c31f",
   "metadata": {},
   "source": [
    "#### CSHDataTest 测试检验相关\n",
    "1. stationarity_test(timeSeries):平稳性测试\n",
    "2. show_acf_pacf(timeSeries):显示自相关和偏自相关图\n",
    "3. granger_test(ds_result,ds_source,maxlag,p_value = 0.05):格兰特因果检验"
   ]
  },
  {
   "cell_type": "markdown",
   "id": "c40fe59d-dbc9-4968-af15-4f3c17ced88e",
   "metadata": {},
   "source": [
    "### SHEvaluation.py (模型评估)"
   ]
  },
  {
   "cell_type": "markdown",
   "id": "e176ba2e-55c4-4cab-9c8c-cfe6d12d34b4",
   "metadata": {},
   "source": [
    "#### 分类模型评估"
   ]
  },
  {
   "cell_type": "markdown",
   "id": "6f130283-3e8b-4bdc-9703-ada4a50aa0f9",
   "metadata": {},
   "source": [
    "1. evaluate(ds_pred,ds_true,average='weighted'):评估分类模型性能\n",
    "2. get_binary_roc(ds_true,ds_prob):获取ROC曲线\n",
    "3. show_binary_roc(roc_auc,df_roc,title = None):显示ROC曲线"
   ]
  },
  {
   "cell_type": "markdown",
   "id": "c2bf4ee5-5ba1-4790-bb97-6e2e0d8516c7",
   "metadata": {},
   "source": [
    "#### SHFeatureSelect.py (模型选择）"
   ]
  },
  {
   "cell_type": "markdown",
   "id": "44f51a9b-c205-4581-9a33-af6f76ec7e0d",
   "metadata": {},
   "source": [
    "##### CSHFeature 特征选择（分类数据，回归数据，时序数据）"
   ]
  },
  {
   "cell_type": "markdown",
   "id": "34bc632a-3d29-4946-8359-e0d3a04a2e13",
   "metadata": {},
   "source": [
    "1. get_inform_graph(self,algorithm=\"AUTO\",protected_columns=[])：生成信息图(分类数据)\n",
    "2. get_anovaglm(self,family='gaussian',lambda_ = 0,highest_interaction_term=2):GLM-ANOVA 方差检验（回归数据）\n",
    "3. granger_test(ds_result,ds_source,maxlag,p_value = 0.05):（时序数据）"
   ]
  },
  {
   "cell_type": "markdown",
   "id": "5ec0c5ce-903a-42f1-99c8-3badafc1c3ca",
   "metadata": {},
   "source": [
    "#### CSHSample.py（样本处理）"
   ]
  },
  {
   "cell_type": "markdown",
   "id": "4ee52dd4-6354-4c5b-afb7-6050b5c017cf",
   "metadata": {},
   "source": [
    "1. get_random_regression(n_sample = 100):生成回归样本\n",
    "2. get_random_classification(n_sample = 100 , n_feature =2, n_class = 2):生成分类样本\n",
    "3. get_random_cluster(n_sample = 100):生成聚类样本\n",
    "4. split_dataset(df,test_ratio = 0.2):分割数据集\n",
    "5. resample_smote(df_sample,x_columns=[],y_column='label',random_state=42):SMOTE平衡采样\n",
    "6. resample_balance(df_data,y_column = 'labels'):有放回平衡采样"
   ]
  },
  {
   "cell_type": "markdown",
   "id": "2dc6d6b6-ccc5-471c-8fc3-e61dfd55ceef",
   "metadata": {},
   "source": [
    "### SHVisualize.py（可视化操作）"
   ]
  },
  {
   "cell_type": "markdown",
   "id": "6feba23d-3955-4f34-b1e4-7b47f9b36801",
   "metadata": {},
   "source": [
    "1. CSHNetGraph:时序图\n",
    "2. CSHVisualize:绘制桑基图\n",
    "3. CSHVisualize:绘制热图\n",
    "4. CSHVisualize:绘制等高图"
   ]
  },
  {
   "cell_type": "markdown",
   "id": "bcbd8532-4fcc-46ba-a07a-d452998231de",
   "metadata": {},
   "source": [
    "## 机器学习模型"
   ]
  },
  {
   "cell_type": "markdown",
   "id": "f5705f67-1bd6-47ea-b2b6-b155d4eed8ec",
   "metadata": {},
   "source": [
    "1. 分类模型（SHModelClassify.py）\n",
    "2. 聚类模型（SHModelCluster.py)\n",
    "3. 回归模型（SHModelRegression.py）\n",
    "4. 时序模型（SHModelSeries.py）"
   ]
  },
  {
   "cell_type": "markdown",
   "id": "a5c10b31-5f06-433d-8d5a-b9e40cfcad23",
   "metadata": {},
   "source": [
    "## 深度学习模型"
   ]
  },
  {
   "cell_type": "markdown",
   "id": "58ff65b8-f496-4fcf-8496-2df4743c059b",
   "metadata": {},
   "source": [
    "1. 残差网络（DLResNet.py)"
   ]
  },
  {
   "cell_type": "markdown",
   "id": "5a9cbd16-c9c9-4a24-9123-c8d9ce60fd66",
   "metadata": {},
   "source": [
    "## 大语言模型"
   ]
  },
  {
   "cell_type": "markdown",
   "id": "4d15c2ef-4593-4335-aaa5-51a482162425",
   "metadata": {},
   "source": [
    "1. Transformers模型底层（加载，保存等）操作（LLMBase.py）\n",
    "2. 参数设置（量化参数，训练参数，基模型参数，文件目录参数）（Config.py）\n",
    "3. 数据集操作（LLMDataset.py）\n",
    "4. 单分类任务（LLMClassify.py）\n",
    "5. 多分类任务（LLMMulClassify.py）\n",
    "6. 回归任务（LLMRegression.py）\n",
    "7. Embedding任务（LLMEmbedding.py）\n",
    "8. 文本生成任务（LLMGenerate.py）\n",
    "9. 问答任务（LLMQA.py）\n",
    "10. LLM的公共操作（CLLMCommon.py)"
   ]
  },
  {
   "cell_type": "code",
   "execution_count": null,
   "id": "60c6d813-ca2c-40b5-a292-11a0f3afc77f",
   "metadata": {},
   "outputs": [],
   "source": []
  }
 ],
 "metadata": {
  "kernelspec": {
   "display_name": "Python 3 (ipykernel)",
   "language": "python",
   "name": "python3"
  },
  "language_info": {
   "codemirror_mode": {
    "name": "ipython",
    "version": 3
   },
   "file_extension": ".py",
   "mimetype": "text/x-python",
   "name": "python",
   "nbconvert_exporter": "python",
   "pygments_lexer": "ipython3",
   "version": "3.9.19"
  }
 },
 "nbformat": 4,
 "nbformat_minor": 5
}
